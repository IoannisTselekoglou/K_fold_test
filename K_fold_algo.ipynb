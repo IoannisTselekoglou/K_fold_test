{
 "cells": [
  {
   "cell_type": "code",
   "execution_count": 2,
   "id": "5cb6ba88",
   "metadata": {},
   "outputs": [],
   "source": [
    "#wrote a function that imports most needed libarys so i dont have to write them all over again \n",
    "import import_all\n",
    "import pandas as pd, numpy as np, matplotlib.pyplot as plt\n",
    "import sklearn\n",
    "from sklearn.model_selection import train_test_split\n",
    "from pandas.plotting import scatter_matrix\n",
    "from sklearn.preprocessing import StandardScaler\n",
    "from sklearn.metrics import confusion_matrix\n",
    "from sklearn.metrics import accuracy_score\n",
    "from sklearn.neighbors import KNeighborsClassifier\n"
   ]
  },
  {
   "cell_type": "code",
   "execution_count": 3,
   "id": "e9e71aad",
   "metadata": {},
   "outputs": [],
   "source": [
    "import numpy as np, pandas as pd, matplotlib.pyplot as plt\n"
   ]
  },
  {
   "cell_type": "code",
   "execution_count": 4,
   "id": "030d59bc",
   "metadata": {},
   "outputs": [
    {
     "data": {
      "text/html": [
       "<div>\n",
       "<style scoped>\n",
       "    .dataframe tbody tr th:only-of-type {\n",
       "        vertical-align: middle;\n",
       "    }\n",
       "\n",
       "    .dataframe tbody tr th {\n",
       "        vertical-align: top;\n",
       "    }\n",
       "\n",
       "    .dataframe thead th {\n",
       "        text-align: right;\n",
       "    }\n",
       "</style>\n",
       "<table border=\"1\" class=\"dataframe\">\n",
       "  <thead>\n",
       "    <tr style=\"text-align: right;\">\n",
       "      <th></th>\n",
       "      <th>age</th>\n",
       "      <th>sex</th>\n",
       "      <th>cp</th>\n",
       "      <th>trtbps</th>\n",
       "      <th>chol</th>\n",
       "      <th>fbs</th>\n",
       "      <th>restecg</th>\n",
       "      <th>thalachh</th>\n",
       "      <th>exng</th>\n",
       "      <th>oldpeak</th>\n",
       "      <th>slp</th>\n",
       "      <th>caa</th>\n",
       "      <th>thall</th>\n",
       "      <th>output</th>\n",
       "    </tr>\n",
       "  </thead>\n",
       "  <tbody>\n",
       "    <tr>\n",
       "      <th>0</th>\n",
       "      <td>63</td>\n",
       "      <td>1</td>\n",
       "      <td>3</td>\n",
       "      <td>145</td>\n",
       "      <td>233</td>\n",
       "      <td>1</td>\n",
       "      <td>0</td>\n",
       "      <td>150</td>\n",
       "      <td>0</td>\n",
       "      <td>2.3</td>\n",
       "      <td>0</td>\n",
       "      <td>0</td>\n",
       "      <td>1</td>\n",
       "      <td>1</td>\n",
       "    </tr>\n",
       "    <tr>\n",
       "      <th>1</th>\n",
       "      <td>37</td>\n",
       "      <td>1</td>\n",
       "      <td>2</td>\n",
       "      <td>130</td>\n",
       "      <td>250</td>\n",
       "      <td>0</td>\n",
       "      <td>1</td>\n",
       "      <td>187</td>\n",
       "      <td>0</td>\n",
       "      <td>3.5</td>\n",
       "      <td>0</td>\n",
       "      <td>0</td>\n",
       "      <td>2</td>\n",
       "      <td>1</td>\n",
       "    </tr>\n",
       "    <tr>\n",
       "      <th>2</th>\n",
       "      <td>41</td>\n",
       "      <td>0</td>\n",
       "      <td>1</td>\n",
       "      <td>130</td>\n",
       "      <td>204</td>\n",
       "      <td>0</td>\n",
       "      <td>0</td>\n",
       "      <td>172</td>\n",
       "      <td>0</td>\n",
       "      <td>1.4</td>\n",
       "      <td>2</td>\n",
       "      <td>0</td>\n",
       "      <td>2</td>\n",
       "      <td>1</td>\n",
       "    </tr>\n",
       "    <tr>\n",
       "      <th>3</th>\n",
       "      <td>56</td>\n",
       "      <td>1</td>\n",
       "      <td>1</td>\n",
       "      <td>120</td>\n",
       "      <td>236</td>\n",
       "      <td>0</td>\n",
       "      <td>1</td>\n",
       "      <td>178</td>\n",
       "      <td>0</td>\n",
       "      <td>0.8</td>\n",
       "      <td>2</td>\n",
       "      <td>0</td>\n",
       "      <td>2</td>\n",
       "      <td>1</td>\n",
       "    </tr>\n",
       "    <tr>\n",
       "      <th>4</th>\n",
       "      <td>57</td>\n",
       "      <td>0</td>\n",
       "      <td>0</td>\n",
       "      <td>120</td>\n",
       "      <td>354</td>\n",
       "      <td>0</td>\n",
       "      <td>1</td>\n",
       "      <td>163</td>\n",
       "      <td>1</td>\n",
       "      <td>0.6</td>\n",
       "      <td>2</td>\n",
       "      <td>0</td>\n",
       "      <td>2</td>\n",
       "      <td>1</td>\n",
       "    </tr>\n",
       "  </tbody>\n",
       "</table>\n",
       "</div>"
      ],
      "text/plain": [
       "   age  sex  cp  trtbps  chol  fbs  restecg  thalachh  exng  oldpeak  slp  \\\n",
       "0   63    1   3     145   233    1        0       150     0      2.3    0   \n",
       "1   37    1   2     130   250    0        1       187     0      3.5    0   \n",
       "2   41    0   1     130   204    0        0       172     0      1.4    2   \n",
       "3   56    1   1     120   236    0        1       178     0      0.8    2   \n",
       "4   57    0   0     120   354    0        1       163     1      0.6    2   \n",
       "\n",
       "   caa  thall  output  \n",
       "0    0      1       1  \n",
       "1    0      2       1  \n",
       "2    0      2       1  \n",
       "3    0      2       1  \n",
       "4    0      2       1  "
      ]
     },
     "execution_count": 4,
     "metadata": {},
     "output_type": "execute_result"
    }
   ],
   "source": [
    "dataset = pd.read_csv(\"archive/heart.csv\")\n",
    "dataset.head()\n"
   ]
  },
  {
   "cell_type": "code",
   "execution_count": 5,
   "id": "17933d90",
   "metadata": {},
   "outputs": [
    {
     "data": {
      "text/html": [
       "<div>\n",
       "<style scoped>\n",
       "    .dataframe tbody tr th:only-of-type {\n",
       "        vertical-align: middle;\n",
       "    }\n",
       "\n",
       "    .dataframe tbody tr th {\n",
       "        vertical-align: top;\n",
       "    }\n",
       "\n",
       "    .dataframe thead th {\n",
       "        text-align: right;\n",
       "    }\n",
       "</style>\n",
       "<table border=\"1\" class=\"dataframe\">\n",
       "  <thead>\n",
       "    <tr style=\"text-align: right;\">\n",
       "      <th></th>\n",
       "      <th>age</th>\n",
       "      <th>sex</th>\n",
       "      <th>cp</th>\n",
       "      <th>trtbps</th>\n",
       "      <th>chol</th>\n",
       "      <th>fbs</th>\n",
       "      <th>restecg</th>\n",
       "      <th>thalachh</th>\n",
       "      <th>exng</th>\n",
       "      <th>oldpeak</th>\n",
       "      <th>slp</th>\n",
       "      <th>caa</th>\n",
       "      <th>thall</th>\n",
       "      <th>output</th>\n",
       "    </tr>\n",
       "  </thead>\n",
       "  <tbody>\n",
       "    <tr>\n",
       "      <th>164</th>\n",
       "      <td>38</td>\n",
       "      <td>1</td>\n",
       "      <td>2</td>\n",
       "      <td>138</td>\n",
       "      <td>175</td>\n",
       "      <td>0</td>\n",
       "      <td>1</td>\n",
       "      <td>173</td>\n",
       "      <td>0</td>\n",
       "      <td>0.0</td>\n",
       "      <td>2</td>\n",
       "      <td>4</td>\n",
       "      <td>2</td>\n",
       "      <td>1</td>\n",
       "    </tr>\n",
       "  </tbody>\n",
       "</table>\n",
       "</div>"
      ],
      "text/plain": [
       "     age  sex  cp  trtbps  chol  fbs  restecg  thalachh  exng  oldpeak  slp  \\\n",
       "164   38    1   2     138   175    0        1       173     0      0.0    2   \n",
       "\n",
       "     caa  thall  output  \n",
       "164    4      2       1  "
      ]
     },
     "execution_count": 5,
     "metadata": {},
     "output_type": "execute_result"
    }
   ],
   "source": [
    "#Check for duplicate\n",
    "dataset[dataset.duplicated()]"
   ]
  },
  {
   "cell_type": "code",
   "execution_count": 6,
   "id": "157525e2",
   "metadata": {},
   "outputs": [
    {
     "data": {
      "text/plain": [
       "(302, 14)"
      ]
     },
     "execution_count": 6,
     "metadata": {},
     "output_type": "execute_result"
    }
   ],
   "source": [
    "#remove\n",
    "dataset.drop_duplicates(keep='first',inplace=True)\n",
    "dataset.shape"
   ]
  },
  {
   "cell_type": "code",
   "execution_count": null,
   "id": "8531c4b1",
   "metadata": {},
   "outputs": [],
   "source": []
  },
  {
   "cell_type": "code",
   "execution_count": 7,
   "id": "a5717a0a",
   "metadata": {},
   "outputs": [],
   "source": [
    "#drop \"output\" for labeld data\n",
    "#y = dataset[\"output\"] \n",
    "#x = pd.DataFrame(dataset)\n",
    "#x.drop(columns=[\"output\"])\n",
    "x = dataset.iloc[:, 1:-1].values\n",
    "y = dataset.iloc[:, -1].values"
   ]
  },
  {
   "cell_type": "code",
   "execution_count": 8,
   "id": "af222e49",
   "metadata": {},
   "outputs": [],
   "source": [
    "from sklearn.pipeline import Pipeline\n",
    "from sklearn.preprocessing import StandardScaler\n",
    "from sklearn.impute import SimpleImputer \n",
    "\n",
    "trans_pipeline = Pipeline([(\"imputer\", SimpleImputer(strategy=\"median\")), \n",
    "                           (\"std_scaler\", StandardScaler()),\n",
    "    ])\n",
    "\n",
    "x_pre = trans_pipeline.fit_transform(x)"
   ]
  },
  {
   "cell_type": "code",
   "execution_count": 9,
   "id": "51aa6932",
   "metadata": {},
   "outputs": [
    {
     "name": "stdout",
     "output_type": "stream",
     "text": [
      "shape data_set: (302, 14) shape of x: (302, 12) shape of y: (302,)\n"
     ]
    }
   ],
   "source": [
    "print(f\"shape data_set: {dataset.shape}\", f\"shape of x: {x.shape}\" , f\"shape of y: {y.shape}\")"
   ]
  },
  {
   "cell_type": "code",
   "execution_count": null,
   "id": "d0494af6",
   "metadata": {},
   "outputs": [],
   "source": []
  },
  {
   "cell_type": "markdown",
   "id": "91091af0",
   "metadata": {},
   "source": [
    "Split dataset into training and testing sets"
   ]
  },
  {
   "cell_type": "code",
   "execution_count": 10,
   "id": "fd24530a",
   "metadata": {},
   "outputs": [],
   "source": [
    "train_x, test_x, train_y, test_y = train_test_split(x_pre, y ,test_size=0.2, random_state=42)"
   ]
  },
  {
   "cell_type": "code",
   "execution_count": 11,
   "id": "875df7a7",
   "metadata": {},
   "outputs": [
    {
     "data": {
      "text/plain": [
       "((241, 12), (61, 12), (241,), (61,))"
      ]
     },
     "execution_count": 11,
     "metadata": {},
     "output_type": "execute_result"
    }
   ],
   "source": [
    "train_x.shape, test_x.shape, train_y.shape, test_y.shape"
   ]
  },
  {
   "cell_type": "code",
   "execution_count": 12,
   "id": "6a656dac",
   "metadata": {},
   "outputs": [
    {
     "data": {
      "text/plain": [
       "(241, 12)"
      ]
     },
     "execution_count": 12,
     "metadata": {},
     "output_type": "execute_result"
    }
   ],
   "source": [
    "train_x_tr = trans_pipeline.fit_transform(train_x)\n",
    "test_x_tr = trans_pipeline.fit_transform(test_x)\n",
    "train_x_tr.shape"
   ]
  },
  {
   "cell_type": "code",
   "execution_count": 13,
   "id": "f45ddf76",
   "metadata": {},
   "outputs": [],
   "source": [
    "from sklearn.neighbors import KNeighborsClassifier\n",
    "knn_clf = KNeighborsClassifier(n_neighbors=1)"
   ]
  },
  {
   "cell_type": "code",
   "execution_count": 14,
   "id": "7a39641a",
   "metadata": {},
   "outputs": [
    {
     "data": {
      "text/plain": [
       "KNeighborsClassifier(n_neighbors=1)"
      ]
     },
     "execution_count": 14,
     "metadata": {},
     "output_type": "execute_result"
    }
   ],
   "source": [
    "knn_clf.fit(train_x_tr,train_y)"
   ]
  },
  {
   "cell_type": "code",
   "execution_count": 15,
   "id": "5a809dff",
   "metadata": {},
   "outputs": [
    {
     "data": {
      "text/plain": [
       "array([1, 0, 0, 1, 0, 1, 1, 1, 0, 1, 1, 0, 1, 0, 1, 0, 0, 0, 1, 0, 0, 1,\n",
       "       1, 1, 0, 0, 1, 1, 1, 1, 1, 1, 1, 1, 1, 1, 1, 1, 0, 1, 1, 1, 0, 0,\n",
       "       1, 1, 1, 1, 0, 1, 0, 0, 1, 0, 1, 0, 1, 1, 0, 0, 0, 0, 0, 0, 0, 1,\n",
       "       0, 0, 0, 1, 1, 0, 0, 1, 1, 0, 1, 0, 0, 0, 0, 0, 1, 1, 1, 0, 1, 0,\n",
       "       0, 1, 1, 1, 1, 0, 1, 1, 0, 1, 0, 0, 1, 0, 1, 0, 1, 1, 1, 1, 1, 0,\n",
       "       1, 0, 1, 1, 0, 0, 1, 1, 0, 1, 1, 0, 1, 0, 1, 0, 0, 1, 0, 1, 0, 1,\n",
       "       1, 1, 1, 0, 0, 0, 1, 0, 0, 0, 1, 0, 1, 1, 1, 0, 1, 0, 0, 1, 1, 1,\n",
       "       1, 0, 1, 1, 0, 1, 1, 0, 1, 1, 1, 0, 0, 1, 1, 0, 1, 1, 0, 0, 1, 0,\n",
       "       0, 0, 0, 1, 1, 1, 0, 0, 0, 0, 1, 1, 0, 1, 0, 0, 0, 1, 1, 1, 1, 1,\n",
       "       1, 0, 1, 1, 1, 0, 1, 1, 0, 0, 1, 0, 0, 1, 1, 0, 0, 0, 0, 0, 1, 1,\n",
       "       0, 0, 1, 1, 0, 0, 0, 1, 1, 1, 1, 1, 0, 1, 0, 1, 0, 1, 1, 0, 1])"
      ]
     },
     "execution_count": 15,
     "metadata": {},
     "output_type": "execute_result"
    }
   ],
   "source": [
    "predict = knn_clf.predict(train_x_tr)\n",
    "predict"
   ]
  },
  {
   "cell_type": "markdown",
   "id": "6089b973",
   "metadata": {},
   "source": [
    "Feature Scaling\n",
    "Ml algortihms dont peforme that good if u have big scaling between numerical attributes input \n",
    "How to get Aattributes to have the same scale: min max scaling, standardization"
   ]
  },
  {
   "cell_type": "code",
   "execution_count": 16,
   "id": "6c0baab1",
   "metadata": {},
   "outputs": [],
   "source": [
    "#Min max scaling (normalization) shift scaling to new_value = (value - min)/(max - min)\n",
    "#Standardization is also an option.: substracts the mean value and divides it by the standard deation "
   ]
  },
  {
   "cell_type": "code",
   "execution_count": 17,
   "id": "b63ac015",
   "metadata": {},
   "outputs": [],
   "source": [
    "#Transformation Piplines and how to use them\n",
    "\n",
    "predict = lambda data_x : knn_clf.predict(data_x)\n",
    "predict_value = predict(train_x_tr)"
   ]
  },
  {
   "cell_type": "code",
   "execution_count": 18,
   "id": "9e591b56",
   "metadata": {},
   "outputs": [
    {
     "data": {
      "text/plain": [
       "array([0.76923077, 0.75      , 0.75      , 0.75      , 0.75      ])"
      ]
     },
     "execution_count": 18,
     "metadata": {},
     "output_type": "execute_result"
    }
   ],
   "source": [
    "#Using Cross-Validation to test for accuracy result\n",
    "from sklearn.model_selection import cross_val_score\n",
    "\n",
    "accuracy = cross_val_score(knn_clf, test_x_tr, test_y, cv = 5)\n",
    "accuracy"
   ]
  },
  {
   "cell_type": "code",
   "execution_count": 19,
   "id": "a08feefc",
   "metadata": {},
   "outputs": [
    {
     "data": {
      "text/plain": [
       "0.7538461538461538"
      ]
     },
     "execution_count": 19,
     "metadata": {},
     "output_type": "execute_result"
    }
   ],
   "source": [
    "accuracy.sum()/len(accuracy) #durchschnittliche accuracy"
   ]
  },
  {
   "cell_type": "code",
   "execution_count": 20,
   "id": "a1b6206d",
   "metadata": {},
   "outputs": [],
   "source": [
    "from sklearn.metrics import accuracy_score\n",
    "predict = knn_clf.predict(train_x_tr)\n"
   ]
  },
  {
   "cell_type": "code",
   "execution_count": 21,
   "id": "0fcb6917",
   "metadata": {},
   "outputs": [
    {
     "data": {
      "text/plain": [
       "132"
      ]
     },
     "execution_count": 21,
     "metadata": {},
     "output_type": "execute_result"
    }
   ],
   "source": [
    "#Implement 5k_cross_validation\n",
    "\n",
    "predict_value.sum()"
   ]
  },
  {
   "cell_type": "code",
   "execution_count": 22,
   "id": "0e4a0d65",
   "metadata": {},
   "outputs": [],
   "source": [
    "k_fold = dataset.copy()\n",
    "\n"
   ]
  },
  {
   "cell_type": "code",
   "execution_count": 23,
   "id": "29c9b91a",
   "metadata": {},
   "outputs": [],
   "source": [
    "#copy train data\n",
    "x_fold_train = train_x.copy \n",
    "y_fold_train = train_y.copy\n",
    "#copy test data\n",
    "x_fold_test = test_x.copy \n",
    "y_fold_test= test_y.copy\n",
    "\n",
    "\n",
    "\n"
   ]
  },
  {
   "cell_type": "code",
   "execution_count": 24,
   "id": "471403d4",
   "metadata": {},
   "outputs": [],
   "source": [
    "# split into K=5 groups split training data into 5 Groups"
   ]
  },
  {
   "cell_type": "code",
   "execution_count": 25,
   "id": "24ab6c8c",
   "metadata": {},
   "outputs": [],
   "source": [
    "#shuffle data and splti in even lenght"
   ]
  },
  {
   "cell_type": "code",
   "execution_count": null,
   "id": "a12ab70f",
   "metadata": {},
   "outputs": [],
   "source": []
  },
  {
   "cell_type": "code",
   "execution_count": 26,
   "id": "88064762",
   "metadata": {},
   "outputs": [],
   "source": [
    "fold_x_train, fold_x_test, fold_y_train, fold_y_test = train_test_split(x, y, test_size=0.2, random_state=42)"
   ]
  },
  {
   "cell_type": "code",
   "execution_count": 27,
   "id": "bd48af3e",
   "metadata": {},
   "outputs": [],
   "source": [
    "k_fold_x = pd.DataFrame(fold_x_train)\n",
    "k_fold_x\n",
    "\n",
    "k_fold_y = pd.DataFrame(fold_y_train)"
   ]
  },
  {
   "cell_type": "code",
   "execution_count": 31,
   "id": "3bb98908",
   "metadata": {},
   "outputs": [],
   "source": [
    "#splitting data into K=5 parts, try to implement function to do this later\n",
    "#training\n",
    "x_1 = k_fold_x.iloc[0:48]\n",
    "x_2 = k_fold_x.iloc[48:48*2]\n",
    "x_3 = k_fold_x.iloc[48*2: 48*3]\n",
    "#test\n",
    "x_4 = k_fold_x.iloc[48*3: 48*4]\n",
    "x_5 = k_fold_x.iloc[48*4:]"
   ]
  },
  {
   "cell_type": "code",
   "execution_count": 32,
   "id": "93d92b41",
   "metadata": {},
   "outputs": [
    {
     "data": {
      "text/plain": [
       "((48, 12), (48, 12), (48, 12), (48, 12), (49, 12))"
      ]
     },
     "execution_count": 32,
     "metadata": {},
     "output_type": "execute_result"
    }
   ],
   "source": [
    "x_1.shape, x_2.shape, x_3.shape , x_4.shape , x_5.shape"
   ]
  },
  {
   "cell_type": "code",
   "execution_count": 33,
   "id": "54f57166",
   "metadata": {},
   "outputs": [],
   "source": [
    "#training\n",
    "y_1 = k_fold_y.iloc[0:48]\n",
    "y_2 = k_fold_y.iloc[48:48*2]\n",
    "y_3 = k_fold_y.iloc[48*2: 48*3]\n",
    "#test\n",
    "y_4 = k_fold_y.iloc[48*3: 48*4]\n",
    "y_5 = k_fold_y.iloc[48*4:]"
   ]
  },
  {
   "cell_type": "code",
   "execution_count": 34,
   "id": "9a0a733d",
   "metadata": {},
   "outputs": [],
   "source": [
    "y_1, y_2, y_3, y_4, y_5 = np.array(y_1), np.array(y_2), np.array(y_3), np.array(y_4), np.array(y_5)\n",
    "\n",
    "y_1, y_2, y_3, y_4, y_5 = np.ravel(y_1),np.ravel(y_2),np.ravel(y_3),np.ravel(y_4),np.ravel(y_5),"
   ]
  },
  {
   "cell_type": "code",
   "execution_count": 35,
   "id": "1b6201a7",
   "metadata": {},
   "outputs": [],
   "source": [
    "test_k_x = [x_1,x_2,x_3,x_4,x_5]\n",
    "test_k_y = [y_1,y_2,y_3,y_4,y_5]\n"
   ]
  },
  {
   "cell_type": "code",
   "execution_count": 36,
   "id": "016a4955",
   "metadata": {},
   "outputs": [
    {
     "data": {
      "text/plain": [
       "[0.4375, 0.625]"
      ]
     },
     "execution_count": 36,
     "metadata": {},
     "output_type": "execute_result"
    }
   ],
   "source": [
    "def k_fold(x_train,y_train, k_folds):\n",
    "    results = []\n",
    "    knn_clf_fold = KNeighborsClassifier(n_neighbors=1)\n",
    "    for i in range(0,k_folds - 3):\n",
    "        knn_clf.fit(x_train[i],y_train[i])\n",
    "        predicted = knn_clf.predict(x_train[i])\n",
    "        results.append(accuracy_score(y_train[i+1], predicted))\n",
    "    return results\n",
    "\n",
    "k_fold(test_k_x,test_k_y,5)"
   ]
  },
  {
   "cell_type": "code",
   "execution_count": 37,
   "id": "283ff201",
   "metadata": {},
   "outputs": [
    {
     "data": {
      "text/plain": [
       "0.375"
      ]
     },
     "execution_count": 37,
     "metadata": {},
     "output_type": "execute_result"
    }
   ],
   "source": [
    "knn_clf_fold = KNeighborsClassifier(n_neighbors=1)\n",
    "knn_clf.fit(x_1,y_1)\n",
    "predicted = knn_clf.predict(x_1)\n",
    "accuracy_score(y_4, predicted.round())"
   ]
  },
  {
   "cell_type": "code",
   "execution_count": 38,
   "id": "3958af84",
   "metadata": {},
   "outputs": [
    {
     "data": {
      "text/plain": [
       "0.5625"
      ]
     },
     "execution_count": 38,
     "metadata": {},
     "output_type": "execute_result"
    }
   ],
   "source": [
    "knn_clf.fit(x_3,y_3)\n",
    "predicted = knn_clf.predict(x_3)\n",
    "accuracy_score(y_4, predicted.round())"
   ]
  },
  {
   "cell_type": "code",
   "execution_count": null,
   "id": "34177408",
   "metadata": {},
   "outputs": [],
   "source": []
  },
  {
   "cell_type": "code",
   "execution_count": null,
   "id": "e518168d",
   "metadata": {},
   "outputs": [],
   "source": []
  },
  {
   "cell_type": "code",
   "execution_count": null,
   "id": "f06db5ee",
   "metadata": {},
   "outputs": [],
   "source": []
  }
 ],
 "metadata": {
  "kernelspec": {
   "display_name": "Python 3 (ipykernel)",
   "language": "python",
   "name": "python3"
  },
  "language_info": {
   "codemirror_mode": {
    "name": "ipython",
    "version": 3
   },
   "file_extension": ".py",
   "mimetype": "text/x-python",
   "name": "python",
   "nbconvert_exporter": "python",
   "pygments_lexer": "ipython3",
   "version": "3.9.7"
  }
 },
 "nbformat": 4,
 "nbformat_minor": 5
}
